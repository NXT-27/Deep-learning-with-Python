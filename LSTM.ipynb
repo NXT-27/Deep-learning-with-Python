{
 "cells": [
  {
   "cell_type": "markdown",
   "metadata": {},
   "source": [
    "# Using Long Short Term Memory (LSTM) networks for stock price prediction\n",
    "\n",
    "In this project, we are using tensorflow to predict 7-day returns on the S&P 500 index (^GSPC). \n",
    "You can download the data needed to run this notebook from yahoo finance at https://finance.yahoo.com/quote/%5EGSPC/history?p=^GSPC. "
   ]
  },
  {
   "cell_type": "code",
   "execution_count": 815,
   "metadata": {
    "collapsed": true
   },
   "outputs": [],
   "source": [
    "import pandas as pd\n",
    "import tensorflow as tf\n",
    "import numpy as np\n",
    "import time \n",
    "import datetime\n",
    "import matplotlib.pyplot as plt\n",
    "% matplotlib inline"
   ]
  },
  {
   "cell_type": "markdown",
   "metadata": {},
   "source": [
    "## Normalization of input and output data\n",
    "Input data to the network will be normalized using z-score normalization. The normalization will be run separately at every input sequence so as to account for numbers differing widely between years (they are much higher today than 30 years ago)."
   ]
  },
  {
   "cell_type": "code",
   "execution_count": 1038,
   "metadata": {},
   "outputs": [],
   "source": [
    "def normalize_df(df):\n",
    "    '''\n",
    "    z-score normalization for a single time window\n",
    "    '''\n",
    "    return (df - df.mean(axis=0)) / df.std(axis = 0)\n",
    "\n",
    "def normalize_return(v):\n",
    "    '''\n",
    "    Normalize returns to range [-1, 1]\n",
    "    '''\n",
    "    return v / max_abs_return\n",
    "\n",
    "def restore_return(v):\n",
    "    return v * max_abs_return"
   ]
  },
  {
   "cell_type": "markdown",
   "metadata": {},
   "source": [
    "## Preparing the inputs\n",
    "Data will be processed by feeding sequences of 60 days to the network. Per batch, 64 of these sequences will be processed. The newest data will be used for testing the model."
   ]
  },
  {
   "cell_type": "code",
   "execution_count": 1068,
   "metadata": {},
   "outputs": [],
   "source": [
    "gspc = pd.read_csv(\"gspc.csv\") # get these from yahoo finance\n",
    "\n",
    "gspc = gspc[-365*7:]\n",
    "\n",
    "\n",
    "in_advance = 7\n",
    "sequence_size = 60\n",
    "batch_size = 64\n",
    "\n",
    "n_layers = 3\n",
    "n_cells = 32\n",
    "\n",
    "returns = (gspc.iloc[in_advance:][\"Adj Close\"].values / gspc.iloc[:-in_advance][\"Adj Close\"] - 1).values\n",
    "gspc = gspc[:-in_advance]\n",
    "\n",
    "\n",
    "n_testbatches = 2\n",
    "gspc_train = gspc.iloc[:-batch_size*n_testbatches-sequence_size]\n",
    "y_train = returns[:-batch_size*n_testbatches-sequence_size]\n",
    "gspc_test  = gspc.iloc[-batch_size*n_testbatches-sequence_size:]\n",
    "y_test  = returns[-batch_size*n_testbatches-sequence_size:]\n",
    "\n",
    "\n",
    "max_abs_return = np.max(np.abs(returns))"
   ]
  },
  {
   "cell_type": "markdown",
   "metadata": {},
   "source": [
    "## Defining methods for accessing normalized training and testing batches"
   ]
  },
  {
   "cell_type": "code",
   "execution_count": 1069,
   "metadata": {
    "collapsed": true
   },
   "outputs": [],
   "source": [
    "def get_sequence(n=sequence_size):\n",
    "    start = np.random.randint(0, len(gspc_train) - sequence_size - 1)\n",
    "    x = gspc_train.iloc[start:start+n][['Open', 'High', 'Low', 'Adj Close', 'Volume']]\n",
    "    y = y_train[start + n]\n",
    "    return np.asarray(normalize_df(x).values), normalize_return(y)\n",
    "\n",
    "def get_test_sequence(n=sequence_size, start=0):\n",
    "    x = gspc_test.iloc[start:start+n][['Open', 'High', 'Low', 'Adj Close', 'Volume']]\n",
    "    y = y_test[start + n]\n",
    "    return np.asarray(normalize_df(x).values), normalize_return(y)\n",
    "    \n",
    "\n",
    "def get_batch(b=batch_size, n=sequence_size):\n",
    "    return [np.asarray(get_sequence(n)) for _ in range(b)]\n",
    "\n",
    "def get_test_batch(i=0, b=batch_size, n=sequence_size):\n",
    "    return [np.asarray(get_test_sequence(n, b * i + bk)) for bk in range(b)]\n",
    "    "
   ]
  },
  {
   "cell_type": "markdown",
   "metadata": {},
   "source": [
    "## Creating the LSTM model\n",
    "The input is being fed to the network in the form of batches holding 64 sequences of data for days following on each other directly. For each day, there exist 5 values (open, high, low, adj. close, volume). The LSTM needs the input to have a different form; the variable `Xs` thus is a list of dimensions sequence_size x batch_size x n_features. We take the last output of our LSTM and apply a matrix multiplication to get our predicted values."
   ]
  },
  {
   "cell_type": "code",
   "execution_count": 1075,
   "metadata": {},
   "outputs": [],
   "source": [
    "tf.reset_default_graph()\n",
    "\n",
    "X = tf.placeholder(dtype=tf.float32, shape=(batch_size, sequence_size, 5), name=\"X\")\n",
    "Xs = [tf.squeeze(part) for part in tf.split(X, sequence_size, axis=1)]\n",
    "Y = tf.placeholder(dtype=tf.float32, shape=batch_size, name=\"y\")\n",
    "\n",
    "cells = tf.contrib.rnn.MultiRNNCell([tf.contrib.rnn.BasicLSTMCell(num_units=n_cells) for _ in range(n_layers)])\n",
    "initial_state = cells.zero_state(tf.shape(X)[0], tf.float32)\n",
    "outputs, state = tf.contrib.rnn.static_rnn(cells, Xs, initial_state=initial_state)\n",
    "last_output = outputs[-1]\n",
    "\n",
    "outmatrix = tf.Variable(tf.truncated_normal([n_cells, 1]), dtype=tf.float32)\n",
    "outbias   = tf.Variable(tf.constant(0.001))\n",
    "\n",
    "\n",
    "result = tf.squeeze(tf.matmul(last_output, outmatrix) + outbias)\n",
    "\n",
    "\n",
    "#result = tf.squeeze(tf.layers.dense(last_output, units=1, activation=tf.nn.tanh))\n",
    "loss = tf.reduce_mean(tf.losses.absolute_difference(result, Y))"
   ]
  },
  {
   "cell_type": "markdown",
   "metadata": {},
   "source": [
    "## Creating an optimizer and applying gradient clipping"
   ]
  },
  {
   "cell_type": "code",
   "execution_count": 1076,
   "metadata": {},
   "outputs": [],
   "source": [
    "optimizer = tf.train.AdamOptimizer(learning_rate=0.0001)\n",
    "gvs = optimizer.compute_gradients(loss)\n",
    "capped_gvs = [(tf.clip_by_value(grad, -5., 5.), var) for grad, var in gvs]\n",
    "train_op = optimizer.apply_gradients(capped_gvs)"
   ]
  },
  {
   "cell_type": "code",
   "execution_count": 1077,
   "metadata": {},
   "outputs": [],
   "source": [
    "sess = tf.Session()\n",
    "sess.run(tf.global_variables_initializer())"
   ]
  },
  {
   "cell_type": "markdown",
   "metadata": {},
   "source": [
    "## Training the model\n",
    "Losses converge relatively fast."
   ]
  },
  {
   "cell_type": "code",
   "execution_count": 1078,
   "metadata": {},
   "outputs": [
    {
     "name": "stdout",
     "output_type": "stream",
     "text": [
      "0 0.255499\n",
      "10 0.140058\n",
      "20 0.0917127\n",
      "30 0.0778731\n",
      "40 0.0838\n",
      "50 0.0872837\n",
      "60 0.0795073\n",
      "70 0.0880756\n",
      "80 0.125589\n",
      "90 0.101911\n",
      "100 0.0942539\n",
      "110 0.0890166\n",
      "120 0.107151\n",
      "130 0.102824\n",
      "140 0.102865\n",
      "150 0.120988\n",
      "160 0.0834461\n",
      "170 0.0967107\n",
      "180 0.0985768\n",
      "190 0.109795\n",
      "200 0.0961341\n",
      "210 0.0724958\n"
     ]
    },
    {
     "ename": "KeyboardInterrupt",
     "evalue": "",
     "output_type": "error",
     "traceback": [
      "\u001b[0;31m---------------------------------------------------------------------------\u001b[0m",
      "\u001b[0;31mKeyboardInterrupt\u001b[0m                         Traceback (most recent call last)",
      "\u001b[0;32m<ipython-input-1078-195e1bb9049b>\u001b[0m in \u001b[0;36m<module>\u001b[0;34m()\u001b[0m\n\u001b[1;32m      1\u001b[0m \u001b[0;32mfor\u001b[0m \u001b[0mi\u001b[0m \u001b[0;32min\u001b[0m \u001b[0mrange\u001b[0m\u001b[0;34m(\u001b[0m\u001b[0;36m10000\u001b[0m\u001b[0;34m)\u001b[0m\u001b[0;34m:\u001b[0m\u001b[0;34m\u001b[0m\u001b[0m\n\u001b[0;32m----> 2\u001b[0;31m     \u001b[0mbatch\u001b[0m \u001b[0;34m=\u001b[0m \u001b[0mget_batch\u001b[0m\u001b[0;34m(\u001b[0m\u001b[0;34m)\u001b[0m\u001b[0;34m\u001b[0m\u001b[0m\n\u001b[0m\u001b[1;32m      3\u001b[0m \u001b[0;34m\u001b[0m\u001b[0m\n\u001b[1;32m      4\u001b[0m \u001b[0;34m\u001b[0m\u001b[0m\n\u001b[1;32m      5\u001b[0m     \u001b[0mx\u001b[0m \u001b[0;34m=\u001b[0m \u001b[0mnp\u001b[0m\u001b[0;34m.\u001b[0m\u001b[0masarray\u001b[0m\u001b[0;34m(\u001b[0m\u001b[0;34m[\u001b[0m\u001b[0mb\u001b[0m\u001b[0;34m[\u001b[0m\u001b[0;36m0\u001b[0m\u001b[0;34m]\u001b[0m \u001b[0;32mfor\u001b[0m \u001b[0mb\u001b[0m \u001b[0;32min\u001b[0m \u001b[0mbatch\u001b[0m\u001b[0;34m]\u001b[0m\u001b[0;34m)\u001b[0m\u001b[0;34m\u001b[0m\u001b[0m\n",
      "\u001b[0;32m<ipython-input-1069-ba3d8b630938>\u001b[0m in \u001b[0;36mget_batch\u001b[0;34m(b, n)\u001b[0m\n\u001b[1;32m     12\u001b[0m \u001b[0;34m\u001b[0m\u001b[0m\n\u001b[1;32m     13\u001b[0m \u001b[0;32mdef\u001b[0m \u001b[0mget_batch\u001b[0m\u001b[0;34m(\u001b[0m\u001b[0mb\u001b[0m\u001b[0;34m=\u001b[0m\u001b[0mbatch_size\u001b[0m\u001b[0;34m,\u001b[0m \u001b[0mn\u001b[0m\u001b[0;34m=\u001b[0m\u001b[0msequence_size\u001b[0m\u001b[0;34m)\u001b[0m\u001b[0;34m:\u001b[0m\u001b[0;34m\u001b[0m\u001b[0m\n\u001b[0;32m---> 14\u001b[0;31m     \u001b[0;32mreturn\u001b[0m \u001b[0;34m[\u001b[0m\u001b[0mnp\u001b[0m\u001b[0;34m.\u001b[0m\u001b[0masarray\u001b[0m\u001b[0;34m(\u001b[0m\u001b[0mget_sequence\u001b[0m\u001b[0;34m(\u001b[0m\u001b[0mn\u001b[0m\u001b[0;34m)\u001b[0m\u001b[0;34m)\u001b[0m \u001b[0;32mfor\u001b[0m \u001b[0m_\u001b[0m \u001b[0;32min\u001b[0m \u001b[0mrange\u001b[0m\u001b[0;34m(\u001b[0m\u001b[0mb\u001b[0m\u001b[0;34m)\u001b[0m\u001b[0;34m]\u001b[0m\u001b[0;34m\u001b[0m\u001b[0m\n\u001b[0m\u001b[1;32m     15\u001b[0m \u001b[0;34m\u001b[0m\u001b[0m\n\u001b[1;32m     16\u001b[0m \u001b[0;32mdef\u001b[0m \u001b[0mget_test_batch\u001b[0m\u001b[0;34m(\u001b[0m\u001b[0mi\u001b[0m\u001b[0;34m=\u001b[0m\u001b[0;36m0\u001b[0m\u001b[0;34m,\u001b[0m \u001b[0mb\u001b[0m\u001b[0;34m=\u001b[0m\u001b[0mbatch_size\u001b[0m\u001b[0;34m,\u001b[0m \u001b[0mn\u001b[0m\u001b[0;34m=\u001b[0m\u001b[0msequence_size\u001b[0m\u001b[0;34m)\u001b[0m\u001b[0;34m:\u001b[0m\u001b[0;34m\u001b[0m\u001b[0m\n",
      "\u001b[0;32m<ipython-input-1069-ba3d8b630938>\u001b[0m in \u001b[0;36m<listcomp>\u001b[0;34m(.0)\u001b[0m\n\u001b[1;32m     12\u001b[0m \u001b[0;34m\u001b[0m\u001b[0m\n\u001b[1;32m     13\u001b[0m \u001b[0;32mdef\u001b[0m \u001b[0mget_batch\u001b[0m\u001b[0;34m(\u001b[0m\u001b[0mb\u001b[0m\u001b[0;34m=\u001b[0m\u001b[0mbatch_size\u001b[0m\u001b[0;34m,\u001b[0m \u001b[0mn\u001b[0m\u001b[0;34m=\u001b[0m\u001b[0msequence_size\u001b[0m\u001b[0;34m)\u001b[0m\u001b[0;34m:\u001b[0m\u001b[0;34m\u001b[0m\u001b[0m\n\u001b[0;32m---> 14\u001b[0;31m     \u001b[0;32mreturn\u001b[0m \u001b[0;34m[\u001b[0m\u001b[0mnp\u001b[0m\u001b[0;34m.\u001b[0m\u001b[0masarray\u001b[0m\u001b[0;34m(\u001b[0m\u001b[0mget_sequence\u001b[0m\u001b[0;34m(\u001b[0m\u001b[0mn\u001b[0m\u001b[0;34m)\u001b[0m\u001b[0;34m)\u001b[0m \u001b[0;32mfor\u001b[0m \u001b[0m_\u001b[0m \u001b[0;32min\u001b[0m \u001b[0mrange\u001b[0m\u001b[0;34m(\u001b[0m\u001b[0mb\u001b[0m\u001b[0;34m)\u001b[0m\u001b[0;34m]\u001b[0m\u001b[0;34m\u001b[0m\u001b[0m\n\u001b[0m\u001b[1;32m     15\u001b[0m \u001b[0;34m\u001b[0m\u001b[0m\n\u001b[1;32m     16\u001b[0m \u001b[0;32mdef\u001b[0m \u001b[0mget_test_batch\u001b[0m\u001b[0;34m(\u001b[0m\u001b[0mi\u001b[0m\u001b[0;34m=\u001b[0m\u001b[0;36m0\u001b[0m\u001b[0;34m,\u001b[0m \u001b[0mb\u001b[0m\u001b[0;34m=\u001b[0m\u001b[0mbatch_size\u001b[0m\u001b[0;34m,\u001b[0m \u001b[0mn\u001b[0m\u001b[0;34m=\u001b[0m\u001b[0msequence_size\u001b[0m\u001b[0;34m)\u001b[0m\u001b[0;34m:\u001b[0m\u001b[0;34m\u001b[0m\u001b[0m\n",
      "\u001b[0;32m/Users/felix/anaconda/envs/py36/lib/python3.6/site-packages/numpy/core/numeric.py\u001b[0m in \u001b[0;36masarray\u001b[0;34m(a, dtype, order)\u001b[0m\n\u001b[1;32m    529\u001b[0m \u001b[0;34m\u001b[0m\u001b[0m\n\u001b[1;32m    530\u001b[0m     \"\"\"\n\u001b[0;32m--> 531\u001b[0;31m     \u001b[0;32mreturn\u001b[0m \u001b[0marray\u001b[0m\u001b[0;34m(\u001b[0m\u001b[0ma\u001b[0m\u001b[0;34m,\u001b[0m \u001b[0mdtype\u001b[0m\u001b[0;34m,\u001b[0m \u001b[0mcopy\u001b[0m\u001b[0;34m=\u001b[0m\u001b[0;32mFalse\u001b[0m\u001b[0;34m,\u001b[0m \u001b[0morder\u001b[0m\u001b[0;34m=\u001b[0m\u001b[0morder\u001b[0m\u001b[0;34m)\u001b[0m\u001b[0;34m\u001b[0m\u001b[0m\n\u001b[0m\u001b[1;32m    532\u001b[0m \u001b[0;34m\u001b[0m\u001b[0m\n\u001b[1;32m    533\u001b[0m \u001b[0;34m\u001b[0m\u001b[0m\n",
      "\u001b[0;31mKeyboardInterrupt\u001b[0m: "
     ]
    }
   ],
   "source": [
    "for i in range(10000):\n",
    "    batch = get_batch()\n",
    "    \n",
    "    \n",
    "    x = np.asarray([b[0] for b in batch])\n",
    "    y = np.asarray([b[1] for b in batch])\n",
    "    \n",
    "    sess.run(train_op, feed_dict={X: x, Y: y})\n",
    "    \n",
    "    if i % 10 == 0:\n",
    "        ls, res = sess.run([loss, result], feed_dict={X: x, Y: y})\n",
    "        print(i, ls)\n",
    "        "
   ]
  },
  {
   "cell_type": "markdown",
   "metadata": {},
   "source": [
    "## Comparing predictions and real data on the testing set"
   ]
  },
  {
   "cell_type": "code",
   "execution_count": 1080,
   "metadata": {},
   "outputs": [
    {
     "name": "stdout",
     "output_type": "stream",
     "text": [
      "0.00736554846978\n",
      "0.00672730014596\n"
     ]
    },
    {
     "data": {
      "image/png": "[encoded data removed]",
      "text/plain": [
       "<matplotlib.figure.Figure at 0x2e9358cc0>"
      ]
     },
     "metadata": {},
     "output_type": "display_data"
    }
   ],
   "source": [
    "testbatch = get_test_batch(0)\n",
    "x = np.asarray([b[0] for b in testbatch])\n",
    "y = np.asarray([b[1] for b in testbatch])\n",
    "\n",
    "testbatch2 = get_test_batch(1)\n",
    "x2 = np.asarray([b[0] for b in testbatch2])\n",
    "y2 = np.asarray([b[1] for b in testbatch2])\n",
    "\n",
    "\n",
    "ls, res = sess.run([loss, result], feed_dict={X: x, Y: y})\n",
    "res2 =    sess.run(result, feed_dict={X: x2})\n",
    "\n",
    "res = np.squeeze(np.append(res, res2))\n",
    "\n",
    "restored = restore_return(res)\n",
    "restored_true = np.append(restore_return(y), restore_return(y2))\n",
    "\n",
    "\n",
    "plt.figure()\n",
    "plt.title(\"7-day returns on S&P 500\")\n",
    "plt.plot(restored, label='Predicted')\n",
    "plt.plot(restored_true, label='True')\n",
    "\n",
    "mn = [np.mean(returns) for _ in range(len(restored))]\n",
    "plt.plot(mn, label='Mean (complete data)', ls=\"--\")\n",
    "plt.legend()\n",
    "\n",
    "print(np.mean(np.absolute(mn - restored_true)))\n",
    "print(np.mean(np.absolute(restored - restored_true)))"
   ]
  },
  {
   "cell_type": "markdown",
   "metadata": {},
   "source": [
    "## Conclusion\n",
    "The prediction accuracy on the trained model is higher than the mean return baseline. However, the provided data seems not to be sufficient for reliably solving this task. Stock prediction is considered to be one of the most difficult time series prediction problems. Possible adjustments could include\n",
    "* Providing the data of multiple securities\n",
    "* Adding fundamental data--the model currently is completely relying on technical analysis of a single index\n",
    "* Adding less obvious data sources like sentiment analysis etc."
   ]
  },
  {
   "cell_type": "code",
   "execution_count": null,
   "metadata": {
    "collapsed": true
   },
   "outputs": [],
   "source": []
  }
 ],
 "metadata": {
  "kernelspec": {
   "display_name": "Python 3",
   "language": "python",
   "name": "python3"
  },
  "language_info": {
   "codemirror_mode": {
    "name": "ipython",
    "version": 3
   },
   "file_extension": ".py",
   "mimetype": "text/x-python",
   "name": "python",
   "nbconvert_exporter": "python",
   "pygments_lexer": "ipython3",
   "version": "3.6.1"
  }
 },
 "nbformat": 4,
 "nbformat_minor": 2
}
